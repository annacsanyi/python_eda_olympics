{
 "cells": [
  {
   "cell_type": "markdown",
   "id": "b9a159b0",
   "metadata": {},
   "source": [
    "## **Summer Olympics Exploratory Data Analysis Project**"
   ]
  },
  {
   "cell_type": "markdown",
   "id": "294d4403",
   "metadata": {},
   "source": [
    "### **1. Introduction**\n",
    "\n",
    "The objective of this exploratory data analysis (EDA) is to uncover trends and patterns in the Summer Olympics between 1976 and 2008. The dataset includes all medal winners from the 1976 Montreal Games to the 2008 Beijing Games, with information such as sport, discipline, event, gender, age, and nationality of athletes.\n",
    "\n",
    "The analysis will be guided by the following key questions:\n",
    "1. How has the total number of medals awarded changed between 1976 and 2008?\n",
    "2. How has the number of female medalists evolved over time compared to male medalists?\n",
    "3. Which sports are male- or female-majority in terms of athlete participation?\n",
    "4. Which countries won the most medals overall, and do host countries tend to win significantly more?\n",
    "5. Which sports show the widest distribution of medals across countries, and which are dominated by only a few?\n",
    "\n",
    "Through answering these questions, the goal is to gain meaningful insights into Olympic participation, performance, and trends across nations, genders, and sports."
   ]
  },
  {
   "cell_type": "markdown",
   "id": "103869d7",
   "metadata": {},
   "source": [
    "**Import necessary libraries and csv file**"
   ]
  },
  {
   "cell_type": "code",
   "execution_count": 1,
   "id": "32dcb149",
   "metadata": {},
   "outputs": [],
   "source": [
    "import os\n",
    "import pandas as pd\n",
    "import numpy as np\n",
    "import matplotlib.pyplot as plt\n",
    "import seaborn as sns"
   ]
  },
  {
   "cell_type": "code",
   "execution_count": 2,
   "id": "016afb36",
   "metadata": {},
   "outputs": [],
   "source": [
    "# Set directory to current folder\n",
    "dirpath = os.getcwd()\n",
    "os.chdir(dirpath)\n",
    "\n",
    "olympics_data = pd.read_csv('Summer-Olympic-medals-1976-to-2008.csv', encoding='latin1')"
   ]
  },
  {
   "cell_type": "markdown",
   "id": "5bff9c9e",
   "metadata": {},
   "source": [
    "### **2. Data overview**"
   ]
  },
  {
   "cell_type": "markdown",
   "id": "bc372d9d",
   "metadata": {},
   "source": [
    "**Examine the dimensions, data types, and the first five rows of the dataset**"
   ]
  },
  {
   "cell_type": "code",
   "execution_count": 3,
   "id": "e7810ee9",
   "metadata": {},
   "outputs": [
    {
     "data": {
      "text/plain": [
       "(15433, 11)"
      ]
     },
     "execution_count": 3,
     "metadata": {},
     "output_type": "execute_result"
    }
   ],
   "source": [
    "olympics_data.shape"
   ]
  },
  {
   "cell_type": "code",
   "execution_count": 4,
   "id": "e6a990e6",
   "metadata": {},
   "outputs": [
    {
     "name": "stdout",
     "output_type": "stream",
     "text": [
      "<class 'pandas.core.frame.DataFrame'>\n",
      "RangeIndex: 15433 entries, 0 to 15432\n",
      "Data columns (total 11 columns):\n",
      " #   Column        Non-Null Count  Dtype  \n",
      "---  ------        --------------  -----  \n",
      " 0   City          15316 non-null  object \n",
      " 1   Year          15316 non-null  float64\n",
      " 2   Sport         15316 non-null  object \n",
      " 3   Discipline    15316 non-null  object \n",
      " 4   Event         15316 non-null  object \n",
      " 5   Athlete       15316 non-null  object \n",
      " 6   Gender        15316 non-null  object \n",
      " 7   Country_Code  15316 non-null  object \n",
      " 8   Country       15316 non-null  object \n",
      " 9   Event_gender  15316 non-null  object \n",
      " 10  Medal         15316 non-null  object \n",
      "dtypes: float64(1), object(10)\n",
      "memory usage: 1.3+ MB\n"
     ]
    }
   ],
   "source": [
    "olympics_data.info()"
   ]
  },
  {
   "cell_type": "code",
   "execution_count": 5,
   "id": "1bcfbc8c",
   "metadata": {},
   "outputs": [
    {
     "data": {
      "application/vnd.microsoft.datawrangler.viewer.v0+json": {
       "columns": [
        {
         "name": "index",
         "rawType": "int64",
         "type": "integer"
        },
        {
         "name": "City",
         "rawType": "object",
         "type": "string"
        },
        {
         "name": "Year",
         "rawType": "float64",
         "type": "float"
        },
        {
         "name": "Sport",
         "rawType": "object",
         "type": "string"
        },
        {
         "name": "Discipline",
         "rawType": "object",
         "type": "string"
        },
        {
         "name": "Event",
         "rawType": "object",
         "type": "string"
        },
        {
         "name": "Athlete",
         "rawType": "object",
         "type": "string"
        },
        {
         "name": "Gender",
         "rawType": "object",
         "type": "string"
        },
        {
         "name": "Country_Code",
         "rawType": "object",
         "type": "string"
        },
        {
         "name": "Country",
         "rawType": "object",
         "type": "string"
        },
        {
         "name": "Event_gender",
         "rawType": "object",
         "type": "string"
        },
        {
         "name": "Medal",
         "rawType": "object",
         "type": "string"
        }
       ],
       "ref": "ba0f6552-5730-4f15-8810-f28743aaae4d",
       "rows": [
        [
         "0",
         "Montreal",
         "1976.0",
         "Aquatics",
         "Diving",
         "3m springboard",
         "KÖHLER, Christa",
         "Women",
         "GDR",
         "East Germany",
         "W",
         "Silver"
        ],
        [
         "1",
         "Montreal",
         "1976.0",
         "Aquatics",
         "Diving",
         "3m springboard",
         "KOSENKOV, Aleksandr",
         "Men",
         "URS",
         "Soviet Union",
         "M",
         "Bronze"
        ],
        [
         "2",
         "Montreal",
         "1976.0",
         "Aquatics",
         "Diving",
         "3m springboard",
         "BOGGS, Philip George",
         "Men",
         "USA",
         "United States",
         "M",
         "Gold"
        ],
        [
         "3",
         "Montreal",
         "1976.0",
         "Aquatics",
         "Diving",
         "3m springboard",
         "CAGNOTTO, Giorgio Franco",
         "Men",
         "ITA",
         "Italy",
         "M",
         "Silver"
        ],
        [
         "4",
         "Montreal",
         "1976.0",
         "Aquatics",
         "Diving",
         "10m platform",
         "WILSON, Deborah Keplar",
         "Women",
         "USA",
         "United States",
         "W",
         "Bronze"
        ]
       ],
       "shape": {
        "columns": 11,
        "rows": 5
       }
      },
      "text/html": [
       "<div>\n",
       "<style scoped>\n",
       "    .dataframe tbody tr th:only-of-type {\n",
       "        vertical-align: middle;\n",
       "    }\n",
       "\n",
       "    .dataframe tbody tr th {\n",
       "        vertical-align: top;\n",
       "    }\n",
       "\n",
       "    .dataframe thead th {\n",
       "        text-align: right;\n",
       "    }\n",
       "</style>\n",
       "<table border=\"1\" class=\"dataframe\">\n",
       "  <thead>\n",
       "    <tr style=\"text-align: right;\">\n",
       "      <th></th>\n",
       "      <th>City</th>\n",
       "      <th>Year</th>\n",
       "      <th>Sport</th>\n",
       "      <th>Discipline</th>\n",
       "      <th>Event</th>\n",
       "      <th>Athlete</th>\n",
       "      <th>Gender</th>\n",
       "      <th>Country_Code</th>\n",
       "      <th>Country</th>\n",
       "      <th>Event_gender</th>\n",
       "      <th>Medal</th>\n",
       "    </tr>\n",
       "  </thead>\n",
       "  <tbody>\n",
       "    <tr>\n",
       "      <th>0</th>\n",
       "      <td>Montreal</td>\n",
       "      <td>1976.0</td>\n",
       "      <td>Aquatics</td>\n",
       "      <td>Diving</td>\n",
       "      <td>3m springboard</td>\n",
       "      <td>KÖHLER, Christa</td>\n",
       "      <td>Women</td>\n",
       "      <td>GDR</td>\n",
       "      <td>East Germany</td>\n",
       "      <td>W</td>\n",
       "      <td>Silver</td>\n",
       "    </tr>\n",
       "    <tr>\n",
       "      <th>1</th>\n",
       "      <td>Montreal</td>\n",
       "      <td>1976.0</td>\n",
       "      <td>Aquatics</td>\n",
       "      <td>Diving</td>\n",
       "      <td>3m springboard</td>\n",
       "      <td>KOSENKOV, Aleksandr</td>\n",
       "      <td>Men</td>\n",
       "      <td>URS</td>\n",
       "      <td>Soviet Union</td>\n",
       "      <td>M</td>\n",
       "      <td>Bronze</td>\n",
       "    </tr>\n",
       "    <tr>\n",
       "      <th>2</th>\n",
       "      <td>Montreal</td>\n",
       "      <td>1976.0</td>\n",
       "      <td>Aquatics</td>\n",
       "      <td>Diving</td>\n",
       "      <td>3m springboard</td>\n",
       "      <td>BOGGS, Philip George</td>\n",
       "      <td>Men</td>\n",
       "      <td>USA</td>\n",
       "      <td>United States</td>\n",
       "      <td>M</td>\n",
       "      <td>Gold</td>\n",
       "    </tr>\n",
       "    <tr>\n",
       "      <th>3</th>\n",
       "      <td>Montreal</td>\n",
       "      <td>1976.0</td>\n",
       "      <td>Aquatics</td>\n",
       "      <td>Diving</td>\n",
       "      <td>3m springboard</td>\n",
       "      <td>CAGNOTTO, Giorgio Franco</td>\n",
       "      <td>Men</td>\n",
       "      <td>ITA</td>\n",
       "      <td>Italy</td>\n",
       "      <td>M</td>\n",
       "      <td>Silver</td>\n",
       "    </tr>\n",
       "    <tr>\n",
       "      <th>4</th>\n",
       "      <td>Montreal</td>\n",
       "      <td>1976.0</td>\n",
       "      <td>Aquatics</td>\n",
       "      <td>Diving</td>\n",
       "      <td>10m platform</td>\n",
       "      <td>WILSON, Deborah Keplar</td>\n",
       "      <td>Women</td>\n",
       "      <td>USA</td>\n",
       "      <td>United States</td>\n",
       "      <td>W</td>\n",
       "      <td>Bronze</td>\n",
       "    </tr>\n",
       "  </tbody>\n",
       "</table>\n",
       "</div>"
      ],
      "text/plain": [
       "       City    Year     Sport Discipline           Event  \\\n",
       "0  Montreal  1976.0  Aquatics     Diving  3m springboard   \n",
       "1  Montreal  1976.0  Aquatics     Diving  3m springboard   \n",
       "2  Montreal  1976.0  Aquatics     Diving  3m springboard   \n",
       "3  Montreal  1976.0  Aquatics     Diving  3m springboard   \n",
       "4  Montreal  1976.0  Aquatics     Diving    10m platform   \n",
       "\n",
       "                    Athlete Gender Country_Code        Country Event_gender  \\\n",
       "0           KÖHLER, Christa  Women          GDR   East Germany            W   \n",
       "1       KOSENKOV, Aleksandr    Men          URS   Soviet Union            M   \n",
       "2      BOGGS, Philip George    Men          USA  United States            M   \n",
       "3  CAGNOTTO, Giorgio Franco    Men          ITA          Italy            M   \n",
       "4    WILSON, Deborah Keplar  Women          USA  United States            W   \n",
       "\n",
       "    Medal  \n",
       "0  Silver  \n",
       "1  Bronze  \n",
       "2    Gold  \n",
       "3  Silver  \n",
       "4  Bronze  "
      ]
     },
     "execution_count": 5,
     "metadata": {},
     "output_type": "execute_result"
    }
   ],
   "source": [
    "olympics_data.head()"
   ]
  },
  {
   "cell_type": "markdown",
   "id": "51f97d33",
   "metadata": {},
   "source": [
    "**Check the number of missing and duplicated values in the dataset**"
   ]
  },
  {
   "cell_type": "code",
   "execution_count": 6,
   "id": "19177cc2",
   "metadata": {},
   "outputs": [
    {
     "data": {
      "application/vnd.microsoft.datawrangler.viewer.v0+json": {
       "columns": [
        {
         "name": "index",
         "rawType": "object",
         "type": "string"
        },
        {
         "name": "0",
         "rawType": "int64",
         "type": "integer"
        }
       ],
       "ref": "5b21d493-259d-4498-8de5-48c3cbb18aed",
       "rows": [
        [
         "City",
         "117"
        ],
        [
         "Year",
         "117"
        ],
        [
         "Sport",
         "117"
        ],
        [
         "Discipline",
         "117"
        ],
        [
         "Event",
         "117"
        ],
        [
         "Athlete",
         "117"
        ],
        [
         "Gender",
         "117"
        ],
        [
         "Country_Code",
         "117"
        ],
        [
         "Country",
         "117"
        ],
        [
         "Event_gender",
         "117"
        ],
        [
         "Medal",
         "117"
        ]
       ],
       "shape": {
        "columns": 1,
        "rows": 11
       }
      },
      "text/plain": [
       "City            117\n",
       "Year            117\n",
       "Sport           117\n",
       "Discipline      117\n",
       "Event           117\n",
       "Athlete         117\n",
       "Gender          117\n",
       "Country_Code    117\n",
       "Country         117\n",
       "Event_gender    117\n",
       "Medal           117\n",
       "dtype: int64"
      ]
     },
     "execution_count": 6,
     "metadata": {},
     "output_type": "execute_result"
    }
   ],
   "source": [
    "olympics_data.isna().sum()\n"
   ]
  },
  {
   "cell_type": "code",
   "execution_count": 7,
   "id": "5be81ade",
   "metadata": {},
   "outputs": [],
   "source": [
    "olympics_data = olympics_data.dropna()"
   ]
  },
  {
   "cell_type": "code",
   "execution_count": 8,
   "id": "c6972c50",
   "metadata": {},
   "outputs": [
    {
     "data": {
      "text/plain": [
       "np.int64(1)"
      ]
     },
     "execution_count": 8,
     "metadata": {},
     "output_type": "execute_result"
    }
   ],
   "source": [
    "olympics_data.duplicated().sum()"
   ]
  },
  {
   "cell_type": "code",
   "execution_count": 9,
   "id": "bd106c3d",
   "metadata": {},
   "outputs": [],
   "source": [
    "olympics_data = olympics_data.drop_duplicates()"
   ]
  },
  {
   "cell_type": "code",
   "execution_count": 10,
   "id": "1a3cacfb",
   "metadata": {},
   "outputs": [],
   "source": [
    "olympics_data['Year'] = olympics_data['Year'].astype(int)"
   ]
  },
  {
   "cell_type": "markdown",
   "id": "34135a23",
   "metadata": {},
   "source": [
    "### **3. Univariate Analysis**"
   ]
  },
  {
   "cell_type": "markdown",
   "id": "c338634d",
   "metadata": {},
   "source": [
    "**Univariate Analysis: Country**"
   ]
  },
  {
   "cell_type": "code",
   "execution_count": 11,
   "id": "5b13e066",
   "metadata": {},
   "outputs": [
    {
     "data": {
      "application/vnd.microsoft.datawrangler.viewer.v0+json": {
       "columns": [
        {
         "name": "index",
         "rawType": "object",
         "type": "string"
        },
        {
         "name": "Country",
         "rawType": "object",
         "type": "unknown"
        }
       ],
       "ref": "96c8d17b-5651-4b4b-83a9-665f2766a169",
       "rows": [
        [
         "count",
         "15315"
        ],
        [
         "unique",
         "127"
        ],
        [
         "top",
         "United States"
        ],
        [
         "freq",
         "1992"
        ]
       ],
       "shape": {
        "columns": 1,
        "rows": 4
       }
      },
      "text/plain": [
       "count             15315\n",
       "unique              127\n",
       "top       United States\n",
       "freq               1992\n",
       "Name: Country, dtype: object"
      ]
     },
     "execution_count": 11,
     "metadata": {},
     "output_type": "execute_result"
    }
   ],
   "source": [
    "olympics_data['Country'].describe()"
   ]
  },
  {
   "cell_type": "markdown",
   "id": "195fb579",
   "metadata": {},
   "source": [
    "Using the `.describe()` function, key summary statistics for the *Country* variable were obtained. Since this variable is categorical, the summary provides only limited information: there are 15,315 entries in total, covering 127 unique countries. The United States appears most frequently, with 1,992 entries."
   ]
  },
  {
   "cell_type": "code",
   "execution_count": 12,
   "id": "2cab369c",
   "metadata": {},
   "outputs": [
    {
     "data": {
      "image/png": "[encoded data removed]",
      "text/plain": [
       "<Figure size 1600x600 with 1 Axes>"
      ]
     },
     "metadata": {},
     "output_type": "display_data"
    }
   ],
   "source": [
    "country_counts = (\n",
    "    olympics_data[\"Country\"]\n",
    "    .value_counts()\n",
    "    .head(10)).copy()\n",
    "\n",
    "plt.figure(figsize=(16,6))\n",
    "sns.barplot(x=country_counts.index, y=country_counts.values, color='#50223C')\n",
    "plt.title('Top 10 countries by total medals (1976 - 2008)')\n",
    "plt.xlabel('Country')\n",
    "plt.ylabel('Number of medals')\n",
    "plt.show()"
   ]
  },
  {
   "cell_type": "markdown",
   "id": "ad40ea65",
   "metadata": {},
   "source": [
    "To better understand the leading countries, the top 10 medal-winning nations were plotted. The United States leads with nearly 2,000 medals, followed by the Soviet Union with just over 1,000. Australia and Germany occupy the third and fourth positions. It is worth noting that countries are recorded under the names used at the time of competition. For example, East Germany’s medals are listed separately from Germany’s, and Soviet Union medals are not attributed to successor states. This introduces some limitations when comparing totals across nations."
   ]
  },
  {
   "cell_type": "markdown",
   "id": "797ab34f",
   "metadata": {},
   "source": [
    "**Univariate Analysis: Sports**"
   ]
  },
  {
   "cell_type": "code",
   "execution_count": 13,
   "id": "d22bef7d",
   "metadata": {},
   "outputs": [
    {
     "data": {
      "application/vnd.microsoft.datawrangler.viewer.v0+json": {
       "columns": [
        {
         "name": "index",
         "rawType": "object",
         "type": "string"
        },
        {
         "name": "Sport",
         "rawType": "object",
         "type": "unknown"
        }
       ],
       "ref": "0ae25543-9cdf-41eb-a7c2-1a2ac51041cb",
       "rows": [
        [
         "count",
         "15315"
        ],
        [
         "unique",
         "28"
        ],
        [
         "top",
         "Aquatics"
        ],
        [
         "freq",
         "2210"
        ]
       ],
       "shape": {
        "columns": 1,
        "rows": 4
       }
      },
      "text/plain": [
       "count        15315\n",
       "unique          28\n",
       "top       Aquatics\n",
       "freq          2210\n",
       "Name: Sport, dtype: object"
      ]
     },
     "execution_count": 13,
     "metadata": {},
     "output_type": "execute_result"
    }
   ],
   "source": [
    "olympics_data['Sport'].describe()"
   ]
  },
  {
   "cell_type": "markdown",
   "id": "3263f95f",
   "metadata": {},
   "source": [
    "Summary statistics for the *Sport* variable show 28 unique sports, with Aquatics being the most common (2,210 entries). The top 10 sports by medal count were visualised."
   ]
  },
  {
   "cell_type": "code",
   "execution_count": 14,
   "id": "c02b14c2",
   "metadata": {},
   "outputs": [
    {
     "data": {
      "image/png": "[encoded data removed]",
      "text/plain": [
       "<Figure size 1600x600 with 1 Axes>"
      ]
     },
     "metadata": {},
     "output_type": "display_data"
    }
   ],
   "source": [
    "sports_count = (\n",
    "    olympics_data['Sport']\n",
    "    .value_counts()\n",
    "    .head(10)).copy()\n",
    "\n",
    "plt.figure(figsize=(16,6))\n",
    "sns.barplot(x=sports_count.index, y=sports_count.values, color='#03045e')\n",
    "plt.title('Top 10 sports by total medals (1976 - 2008)')\n",
    "plt.xlabel('Sports')\n",
    "plt.ylabel('Number of medals')\n",
    "plt.show()\n"
   ]
  },
  {
   "cell_type": "markdown",
   "id": "1b03d4fd",
   "metadata": {},
   "source": [
    "The chart reveals that Aquatics and Athletics dominate, with over 1,500–2,000 medals each. Rowing follows in third place with around 1,400 medals. From fourth place onwards (Hockey, Gymnastics, Handball, etc.), medal counts cluster around 700–800 each. This suggests a relatively concentrated distribution, with a few sports accounting for a disproportionately large share of total medals."
   ]
  },
  {
   "cell_type": "markdown",
   "id": "71220685",
   "metadata": {},
   "source": [
    "**Univariate Analysis: Year**"
   ]
  },
  {
   "cell_type": "markdown",
   "id": "971986e0",
   "metadata": {},
   "source": [
    "To explore the *Year* variable, the number of medals awarded at each Summer Olympics was calculated."
   ]
  },
  {
   "cell_type": "code",
   "execution_count": 15,
   "id": "059a5c9a",
   "metadata": {},
   "outputs": [
    {
     "data": {
      "image/png": "[encoded data removed]",
      "text/plain": [
       "<Figure size 1600x600 with 1 Axes>"
      ]
     },
     "metadata": {},
     "output_type": "display_data"
    }
   ],
   "source": [
    "medals_per_year = olympics_data.groupby('Year').size().reset_index(name='MedalCount').copy()\n",
    "\n",
    "plt.figure(figsize=(16,6))\n",
    "sns.lineplot(data=medals_per_year, x='Year', y='MedalCount', marker='o',\n",
    "             color = '#2b2d42', linewidth=3)\n",
    "plt.title('Total number of medals per Summer Olympics (1976 - 2008)')\n",
    "plt.xlabel('Year')\n",
    "plt.ylabel('Number of medals')\n",
    "plt.show()"
   ]
  },
  {
   "cell_type": "markdown",
   "id": "5bb80ead",
   "metadata": {},
   "source": [
    "The results show a clear upward trend from 1976 through 2000, where medal counts increased steadily. However, in the final three Olympics covered (2000–2008), the number of medals appears to level off, showing only minor fluctuations. This indicates a period of rapid growth in earlier decades, followed by stabilisation in more recent Games."
   ]
  },
  {
   "cell_type": "markdown",
   "id": "ba21c31d",
   "metadata": {},
   "source": [
    "**Univariate Analysis: Gender**"
   ]
  },
  {
   "cell_type": "code",
   "execution_count": 16,
   "id": "da26be1b",
   "metadata": {},
   "outputs": [
    {
     "data": {
      "application/vnd.microsoft.datawrangler.viewer.v0+json": {
       "columns": [
        {
         "name": "index",
         "rawType": "object",
         "type": "string"
        },
        {
         "name": "Gender",
         "rawType": "object",
         "type": "unknown"
        }
       ],
       "ref": "51ebc350-62a2-4e77-af17-1e519d9e4b1c",
       "rows": [
        [
         "count",
         "15315"
        ],
        [
         "unique",
         "2"
        ],
        [
         "top",
         "Men"
        ],
        [
         "freq",
         "9387"
        ]
       ],
       "shape": {
        "columns": 1,
        "rows": 4
       }
      },
      "text/plain": [
       "count     15315\n",
       "unique        2\n",
       "top         Men\n",
       "freq       9387\n",
       "Name: Gender, dtype: object"
      ]
     },
     "execution_count": 16,
     "metadata": {},
     "output_type": "execute_result"
    }
   ],
   "source": [
    "olympics_data['Gender'].describe()"
   ]
  },
  {
   "cell_type": "markdown",
   "id": "a2c59362",
   "metadata": {},
   "source": [
    "Summary statistics for the *Gender* variable show two categories: Men and Women. Men account for 9,387 of the 15,315 medals in the dataset."
   ]
  },
  {
   "cell_type": "code",
   "execution_count": 17,
   "id": "ad188e10",
   "metadata": {},
   "outputs": [
    {
     "data": {
      "image/png": "[encoded data removed]",
      "text/plain": [
       "<Figure size 1600x600 with 1 Axes>"
      ]
     },
     "metadata": {},
     "output_type": "display_data"
    }
   ],
   "source": [
    "medals_per_year_gender = olympics_data.groupby(['Year', 'Gender']).size().reset_index(name='MedalCount').copy()\n",
    "\n",
    "plt.figure(figsize=(16,6))\n",
    "sns.lineplot(data=medals_per_year_gender, x='Year', y='MedalCount', hue='Gender',\n",
    "             palette={'Men': '#4a4e69', 'Women': '#ef233c'}, marker='o',\n",
    "             linewidth=3)\n",
    "plt.title('Total number of medals per Summer Olympics by gender of athletes (1976 - 2008)')\n",
    "plt.xlabel('Year')\n",
    "plt.ylabel('Number of medals')\n",
    "plt.show()"
   ]
  },
  {
   "cell_type": "markdown",
   "id": "aee6f4e3",
   "metadata": {},
   "source": [
    "To investigate further, medals were plotted over time by gender. The results show a steady increase for both men and women. However, the growth among women was much sharper: their medal counts rose from under 400 in 1976 to over 900 in 2008, more than doubling. By contrast, men’s medals increased only moderately, from about 900 to just over 1,100. This trend suggests a significant expansion of women’s participation and events in the Summer Olympics during the period studied."
   ]
  },
  {
   "cell_type": "markdown",
   "id": "15d9afd3",
   "metadata": {},
   "source": [
    "### **4. Research Questions**"
   ]
  },
  {
   "cell_type": "markdown",
   "id": "1cc52c2c",
   "metadata": {},
   "source": [
    "This section answers the questions introduced in the introduction using the necessary analysis and plotting."
   ]
  },
  {
   "cell_type": "markdown",
   "id": "6f285b13",
   "metadata": {},
   "source": [
    "**Q1: How has the total number of medals awarded changed between 1976 and 2008?**"
   ]
  },
  {
   "cell_type": "markdown",
   "id": "a3c4f5c9",
   "metadata": {},
   "source": [
    "A part of this question was already answered in the Univariate Analysis: Year subsection, however, this part includes a growth rate to have a deeper understanding of this change."
   ]
  },
  {
   "cell_type": "code",
   "execution_count": 18,
   "id": "960440b7",
   "metadata": {},
   "outputs": [
    {
     "name": "stdout",
     "output_type": "stream",
     "text": [
      "   Year  MedalCount  GrowthRate\n",
      "0  1976        1305         NaN\n",
      "1  1980        1386        0.06\n",
      "2  1984        1459        0.05\n",
      "3  1988        1546        0.06\n",
      "4  1992        1705        0.10\n",
      "5  1996        1859        0.09\n",
      "6  2000        2015        0.08\n",
      "7  2004        1998       -0.01\n",
      "8  2008        2042        0.02\n"
     ]
    }
   ],
   "source": [
    "medals_per_year['GrowthRate'] = medals_per_year['MedalCount'].pct_change().round(2)\n",
    "print(medals_per_year)"
   ]
  },
  {
   "cell_type": "markdown",
   "id": "f822dc11",
   "metadata": {},
   "source": [
    "In addition to the graph showing the total number of medals in each year in the univariate analysis, the growth rate in this number was calculated as well to get deeper understanding of the change in number of medals throughout the years. The growth rate shows that the number of medals grew from 1,305 in 1976 to 2,042 in 2008. The biggest increase was from the 1988 to the 1992 Olympic Games, where the number of medals rose by 10%. The second largest growth rate can be observed in the next Olympics with the increase of 9%. In the last three Oliympic Games that the dataset contains there is indeed a more steady increase, and even a 1% decrease from the 2000 to the 2004 Games."
   ]
  },
  {
   "cell_type": "markdown",
   "id": "48aa853a",
   "metadata": {},
   "source": [
    "**Q2: How has the number of female medalists evolved over time compared to male medalists?**"
   ]
  },
  {
   "cell_type": "code",
   "execution_count": 19,
   "id": "f4f40d9b",
   "metadata": {},
   "outputs": [
    {
     "data": {
      "application/vnd.microsoft.datawrangler.viewer.v0+json": {
       "columns": [
        {
         "name": "index",
         "rawType": "int64",
         "type": "integer"
        },
        {
         "name": "Year",
         "rawType": "int64",
         "type": "integer"
        },
        {
         "name": "Gender",
         "rawType": "object",
         "type": "string"
        },
        {
         "name": "AthleteCount",
         "rawType": "int64",
         "type": "integer"
        }
       ],
       "ref": "fbd1d1e7-f5d1-46dd-ae82-63077602959f",
       "rows": [
        [
         "0",
         "1976",
         "Men",
         "851"
        ],
        [
         "1",
         "1976",
         "Women",
         "328"
        ],
        [
         "2",
         "1980",
         "Men",
         "874"
        ],
        [
         "3",
         "1980",
         "Women",
         "383"
        ]
       ],
       "shape": {
        "columns": 3,
        "rows": 4
       }
      },
      "text/html": [
       "<div>\n",
       "<style scoped>\n",
       "    .dataframe tbody tr th:only-of-type {\n",
       "        vertical-align: middle;\n",
       "    }\n",
       "\n",
       "    .dataframe tbody tr th {\n",
       "        vertical-align: top;\n",
       "    }\n",
       "\n",
       "    .dataframe thead th {\n",
       "        text-align: right;\n",
       "    }\n",
       "</style>\n",
       "<table border=\"1\" class=\"dataframe\">\n",
       "  <thead>\n",
       "    <tr style=\"text-align: right;\">\n",
       "      <th></th>\n",
       "      <th>Year</th>\n",
       "      <th>Gender</th>\n",
       "      <th>AthleteCount</th>\n",
       "    </tr>\n",
       "  </thead>\n",
       "  <tbody>\n",
       "    <tr>\n",
       "      <th>0</th>\n",
       "      <td>1976</td>\n",
       "      <td>Men</td>\n",
       "      <td>851</td>\n",
       "    </tr>\n",
       "    <tr>\n",
       "      <th>1</th>\n",
       "      <td>1976</td>\n",
       "      <td>Women</td>\n",
       "      <td>328</td>\n",
       "    </tr>\n",
       "    <tr>\n",
       "      <th>2</th>\n",
       "      <td>1980</td>\n",
       "      <td>Men</td>\n",
       "      <td>874</td>\n",
       "    </tr>\n",
       "    <tr>\n",
       "      <th>3</th>\n",
       "      <td>1980</td>\n",
       "      <td>Women</td>\n",
       "      <td>383</td>\n",
       "    </tr>\n",
       "  </tbody>\n",
       "</table>\n",
       "</div>"
      ],
      "text/plain": [
       "   Year Gender  AthleteCount\n",
       "0  1976    Men           851\n",
       "1  1976  Women           328\n",
       "2  1980    Men           874\n",
       "3  1980  Women           383"
      ]
     },
     "execution_count": 19,
     "metadata": {},
     "output_type": "execute_result"
    }
   ],
   "source": [
    "athlete_count_per_year = (olympics_data.groupby(['Year', 'Gender'])['Athlete'].nunique().reset_index(name='AthleteCount')).copy()\n",
    "athlete_count_per_year.head(4)"
   ]
  },
  {
   "cell_type": "markdown",
   "id": "fa961617",
   "metadata": {},
   "source": [
    "To assess the number of athletes gaining medals in each Summer Olympic Games, a new dataset was constructed. This dataset shows the number of distinct athletes, and not the number of medals obtained by men and women in each Games."
   ]
  },
  {
   "cell_type": "code",
   "execution_count": 20,
   "id": "8db106b2",
   "metadata": {},
   "outputs": [
    {
     "data": {
      "image/png": "[encoded data removed]",
      "text/plain": [
       "<Figure size 1600x600 with 1 Axes>"
      ]
     },
     "metadata": {},
     "output_type": "display_data"
    }
   ],
   "source": [
    "plt.figure(figsize=(16,6))\n",
    "sns.lineplot(data=athlete_count_per_year, x='Year', y='AthleteCount', hue='Gender',\n",
    "             palette={'Men': '#0b3948', 'Women': '#9c3848'}, marker='o',\n",
    "             linewidth=3)\n",
    "plt.title('Number of athletes int the Summer Olympics by gender (1976 - 2008)')\n",
    "plt.xlabel('Year')\n",
    "plt.ylabel('Number of Athlete')\n",
    "plt.show()"
   ]
  },
  {
   "cell_type": "markdown",
   "id": "f946565d",
   "metadata": {},
   "source": [
    "The graph shows the number of athletes obtaining medals in each Summer Olympic games by gender. This graph, however, it very similar to the one in the Univariate Analysis: Gender subsection, only counts each athlete once, even if they won multiple medals in that year's Olympic Games. The plot highlights the difference in the number of male and female athletes competing in each Olyimpics. The graph shows a steady increase in the number of both men and women athletes, however, the increase in the number of female athletes is much higher. The number of men increased from around 850 in 1976 to around 1000, while the number of women from around 350 to aroound 800."
   ]
  },
  {
   "cell_type": "code",
   "execution_count": 21,
   "id": "6b8f7581",
   "metadata": {},
   "outputs": [
    {
     "name": "stdout",
     "output_type": "stream",
     "text": [
      "Gender  Year   Men  Women  Total  Women%\n",
      "0       1976   851    328   1179   27.82\n",
      "1       1980   874    383   1257   30.47\n",
      "2       1984   884    425   1309   32.47\n",
      "3       1988   925    446   1371   32.53\n",
      "4       1992  1022    515   1537   33.51\n",
      "5       1996  1015    694   1709   40.61\n",
      "6       2000  1049    800   1849   43.27\n",
      "7       2004  1020    812   1832   44.32\n",
      "8       2008  1024    842   1866   45.12\n"
     ]
    }
   ],
   "source": [
    "athlete_count_wide = athlete_count_per_year.pivot(\n",
    "    index='Year', columns='Gender', values='AthleteCount').reset_index()\n",
    "athlete_count_wide['Total'] = athlete_count_wide['Men'] + athlete_count_wide['Women']\n",
    "athlete_count_wide['Women%'] = (athlete_count_wide['Women'] / athlete_count_wide['Total'] * 100).round(2)\n",
    "print(athlete_count_wide)"
   ]
  },
  {
   "cell_type": "markdown",
   "id": "ffeac6a9",
   "metadata": {},
   "source": [
    "To further assess the differences between the number of male and female athletes competing in the Summer Olympic Games, the table above was constructed. It shows the exact number of both genders per Olympic Games, as well as the percentage of women competing. The table shows that the number of female athletes grew in each year between 1976 and 2008, while the number of male athletes grew until 1992, and then stayed around 1020 until the last entry in the dataset in 2008. With the growing number of female athletes, the percentage of women competing in the Games increased as well. This number rose from 27.82% to 45.12% showing that while in 1976 less than one third of the athletes were women, in 2008, they were almost half of the medal-winning athletes in 2008."
   ]
  },
  {
   "cell_type": "markdown",
   "id": "4805e20f",
   "metadata": {},
   "source": [
    "**Q3: Which sports are male- or female-majority in terms of athlete participation?**"
   ]
  },
  {
   "cell_type": "markdown",
   "id": "c612eac9",
   "metadata": {},
   "source": [
    "In the analysis, the full sample of 1976 - 2008 Olympic Games was used. First, new dataset, similar to the previous one, was created to complete the analysis. This included the *Sport* column, the *Gender* of the athletes, and the number of athletes in each sport by gender."
   ]
  },
  {
   "cell_type": "code",
   "execution_count": 24,
   "id": "9f348a86",
   "metadata": {},
   "outputs": [
    {
     "data": {
      "application/vnd.microsoft.datawrangler.viewer.v0+json": {
       "columns": [
        {
         "name": "index",
         "rawType": "int64",
         "type": "integer"
        },
        {
         "name": "Sport",
         "rawType": "object",
         "type": "string"
        },
        {
         "name": "Gender",
         "rawType": "object",
         "type": "string"
        },
        {
         "name": "AthleteCount",
         "rawType": "int64",
         "type": "integer"
        }
       ],
       "ref": "750c6d6f-7b36-41cd-a948-5f458d349cd9",
       "rows": [
        [
         "0",
         "Aquatics",
         "Men",
         "696"
        ],
        [
         "1",
         "Aquatics",
         "Women",
         "632"
        ],
        [
         "2",
         "Archery",
         "Men",
         "57"
        ],
        [
         "3",
         "Archery",
         "Women",
         "56"
        ]
       ],
       "shape": {
        "columns": 3,
        "rows": 4
       }
      },
      "text/html": [
       "<div>\n",
       "<style scoped>\n",
       "    .dataframe tbody tr th:only-of-type {\n",
       "        vertical-align: middle;\n",
       "    }\n",
       "\n",
       "    .dataframe tbody tr th {\n",
       "        vertical-align: top;\n",
       "    }\n",
       "\n",
       "    .dataframe thead th {\n",
       "        text-align: right;\n",
       "    }\n",
       "</style>\n",
       "<table border=\"1\" class=\"dataframe\">\n",
       "  <thead>\n",
       "    <tr style=\"text-align: right;\">\n",
       "      <th></th>\n",
       "      <th>Sport</th>\n",
       "      <th>Gender</th>\n",
       "      <th>AthleteCount</th>\n",
       "    </tr>\n",
       "  </thead>\n",
       "  <tbody>\n",
       "    <tr>\n",
       "      <th>0</th>\n",
       "      <td>Aquatics</td>\n",
       "      <td>Men</td>\n",
       "      <td>696</td>\n",
       "    </tr>\n",
       "    <tr>\n",
       "      <th>1</th>\n",
       "      <td>Aquatics</td>\n",
       "      <td>Women</td>\n",
       "      <td>632</td>\n",
       "    </tr>\n",
       "    <tr>\n",
       "      <th>2</th>\n",
       "      <td>Archery</td>\n",
       "      <td>Men</td>\n",
       "      <td>57</td>\n",
       "    </tr>\n",
       "    <tr>\n",
       "      <th>3</th>\n",
       "      <td>Archery</td>\n",
       "      <td>Women</td>\n",
       "      <td>56</td>\n",
       "    </tr>\n",
       "  </tbody>\n",
       "</table>\n",
       "</div>"
      ],
      "text/plain": [
       "      Sport Gender  AthleteCount\n",
       "0  Aquatics    Men           696\n",
       "1  Aquatics  Women           632\n",
       "2   Archery    Men            57\n",
       "3   Archery  Women            56"
      ]
     },
     "execution_count": 24,
     "metadata": {},
     "output_type": "execute_result"
    }
   ],
   "source": [
    "athlete_count_sport = (olympics_data.groupby(['Sport', 'Gender'])['Athlete'].nunique().reset_index(name='AthleteCount')).copy()\n",
    "athlete_count_sport.head(4)"
   ]
  },
  {
   "cell_type": "markdown",
   "id": "1cf8d607",
   "metadata": {},
   "source": [
    "Then the percentage of women was calculated in each sport to assess the majority gender in each sport."
   ]
  },
  {
   "cell_type": "code",
   "execution_count": 28,
   "id": "5d0bf364",
   "metadata": {},
   "outputs": [],
   "source": [
    "athlete_count_sport_wide = athlete_count_sport.pivot(\n",
    "    index='Sport', columns='Gender', values='AthleteCount').reset_index()\n",
    "athlete_count_sport_wide['Total'] = athlete_count_sport_wide['Men'] + athlete_count_sport_wide['Women']\n",
    "athlete_count_sport_wide['Women%'] = (athlete_count_sport_wide['Women'] / athlete_count_sport_wide['Total'] * 100).round(2)"
   ]
  },
  {
   "cell_type": "markdown",
   "id": "ed988d25",
   "metadata": {},
   "source": [
    "Finally, the top 5 sports were shown based on attendance per gender."
   ]
  },
  {
   "cell_type": "code",
   "execution_count": 33,
   "id": "7a766cd7",
   "metadata": {},
   "outputs": [
    {
     "name": "stdout",
     "output_type": "stream",
     "text": [
      "Gender       Sport    Men  Women  Total  Women%\n",
      "12      Gymnastics  197.0  258.0  455.0   56.70\n",
      "24       Triathlon    7.0    9.0   16.0   56.25\n",
      "22       Taekwondo   33.0   38.0   71.0   53.52\n",
      "25      Volleyball  277.0  288.0  565.0   50.97\n",
      "13        Handball  314.0  315.0  629.0   50.08\n"
     ]
    }
   ],
   "source": [
    "female_majority = athlete_count_sport_wide.sort_values('Women%', ascending=False)\n",
    "print(female_majority.head())"
   ]
  },
  {
   "cell_type": "code",
   "execution_count": 31,
   "id": "3baf6ba6",
   "metadata": {},
   "outputs": [
    {
     "name": "stdout",
     "output_type": "stream",
     "text": [
      "Gender              Sport    Men  Women  Total  Women%\n",
      "27              Wrestling  435.0   22.0  457.0    4.81\n",
      "16      Modern Pentathlon   48.0    9.0   57.0   15.79\n",
      "18                Sailing  268.0   67.0  335.0   20.00\n",
      "8                 Cycling  291.0   73.0  364.0   20.05\n",
      "26          Weightlifting  201.0   57.0  258.0   22.09\n"
     ]
    }
   ],
   "source": [
    "male_majority = athlete_count_sport_wide.sort_values('Women%', ascending=True)\n",
    "print(male_majority.head())"
   ]
  },
  {
   "cell_type": "markdown",
   "id": "0dfc9254",
   "metadata": {},
   "source": [
    "Based on the above two tables, there is a major difference in female-majority and male-majority sports in terms of attendance from the other gender. While female-majority sport are only slightly above 50%, the most male-majority sports often have around 80% male athletes. This unevenness of the data probably flags that historically, women were not cmopeting in male-dominated sports. The sports that have the most female athletes are Gymnastics, Triathlon, Taekwondo, Volleyball, and Handball. All other sports have less than 50% female medalists. The most male-dominated sports are Wrestling, Modern Pentathlon, Sailing, Cycling, and Weightlifting. "
   ]
  },
  {
   "cell_type": "markdown",
   "id": "2ab83158",
   "metadata": {},
   "source": [
    "To test the hypothesis that women were not cmopeting in male-dominated sports for a long time, and thus, the total percentage of female athletes is severly low, the same analysis was conducted for the last available Olympics in the dataset. This analysis included the same steps as the previous part."
   ]
  },
  {
   "cell_type": "code",
   "execution_count": 35,
   "id": "d89f33dd",
   "metadata": {},
   "outputs": [
    {
     "data": {
      "application/vnd.microsoft.datawrangler.viewer.v0+json": {
       "columns": [
        {
         "name": "index",
         "rawType": "int64",
         "type": "integer"
        },
        {
         "name": "Sport",
         "rawType": "object",
         "type": "string"
        },
        {
         "name": "Gender",
         "rawType": "object",
         "type": "string"
        },
        {
         "name": "AthleteCount",
         "rawType": "int64",
         "type": "integer"
        }
       ],
       "ref": "e1dd600a-2592-4e99-95e6-88d9b16d3822",
       "rows": [
        [
         "0",
         "Aquatics",
         "Men",
         "117"
        ],
        [
         "1",
         "Aquatics",
         "Women",
         "144"
        ],
        [
         "2",
         "Archery",
         "Men",
         "11"
        ],
        [
         "3",
         "Archery",
         "Women",
         "9"
        ]
       ],
       "shape": {
        "columns": 3,
        "rows": 4
       }
      },
      "text/html": [
       "<div>\n",
       "<style scoped>\n",
       "    .dataframe tbody tr th:only-of-type {\n",
       "        vertical-align: middle;\n",
       "    }\n",
       "\n",
       "    .dataframe tbody tr th {\n",
       "        vertical-align: top;\n",
       "    }\n",
       "\n",
       "    .dataframe thead th {\n",
       "        text-align: right;\n",
       "    }\n",
       "</style>\n",
       "<table border=\"1\" class=\"dataframe\">\n",
       "  <thead>\n",
       "    <tr style=\"text-align: right;\">\n",
       "      <th></th>\n",
       "      <th>Sport</th>\n",
       "      <th>Gender</th>\n",
       "      <th>AthleteCount</th>\n",
       "    </tr>\n",
       "  </thead>\n",
       "  <tbody>\n",
       "    <tr>\n",
       "      <th>0</th>\n",
       "      <td>Aquatics</td>\n",
       "      <td>Men</td>\n",
       "      <td>117</td>\n",
       "    </tr>\n",
       "    <tr>\n",
       "      <th>1</th>\n",
       "      <td>Aquatics</td>\n",
       "      <td>Women</td>\n",
       "      <td>144</td>\n",
       "    </tr>\n",
       "    <tr>\n",
       "      <th>2</th>\n",
       "      <td>Archery</td>\n",
       "      <td>Men</td>\n",
       "      <td>11</td>\n",
       "    </tr>\n",
       "    <tr>\n",
       "      <th>3</th>\n",
       "      <td>Archery</td>\n",
       "      <td>Women</td>\n",
       "      <td>9</td>\n",
       "    </tr>\n",
       "  </tbody>\n",
       "</table>\n",
       "</div>"
      ],
      "text/plain": [
       "      Sport Gender  AthleteCount\n",
       "0  Aquatics    Men           117\n",
       "1  Aquatics  Women           144\n",
       "2   Archery    Men            11\n",
       "3   Archery  Women             9"
      ]
     },
     "execution_count": 35,
     "metadata": {},
     "output_type": "execute_result"
    }
   ],
   "source": [
    "athlete_count_sport_2008 = (olympics_data.loc[olympics_data['Year'] == 2008]\n",
    "                                         .groupby(['Sport', 'Gender'])['Athlete']\n",
    "                                         .nunique()\n",
    "                                         .reset_index(name='AthleteCount')).copy()\n",
    "athlete_count_sport_2008.head(4)"
   ]
  },
  {
   "cell_type": "code",
   "execution_count": 36,
   "id": "bbc4e65f",
   "metadata": {},
   "outputs": [],
   "source": [
    "athlete_count_sport_wide_2008 = athlete_count_sport_2008.pivot(\n",
    "    index='Sport', columns='Gender', values='AthleteCount').reset_index()\n",
    "athlete_count_sport_wide_2008['Total'] = athlete_count_sport_wide_2008['Men'] + athlete_count_sport_wide_2008['Women']\n",
    "athlete_count_sport_wide_2008['Women%'] = (athlete_count_sport_wide_2008['Women'] / athlete_count_sport_wide_2008['Total'] * 100).round(2)"
   ]
  },
  {
   "cell_type": "code",
   "execution_count": 37,
   "id": "a09e9cf8",
   "metadata": {},
   "outputs": [
    {
     "name": "stdout",
     "output_type": "stream",
     "text": [
      "Gender       Sport    Men  Women  Total  Women%\n",
      "12      Gymnastics   32.0   44.0   76.0   57.89\n",
      "0         Aquatics  117.0  144.0  261.0   55.17\n",
      "9       Equestrian   18.0   20.0   38.0   52.63\n",
      "23          Tennis    9.0    9.0   18.0   50.00\n",
      "5       Basketball   36.0   36.0   72.0   50.00\n"
     ]
    }
   ],
   "source": [
    "female_majority_2008 = athlete_count_sport_wide_2008.sort_values('Women%', ascending=False)\n",
    "print(female_majority_2008.head())"
   ]
  },
  {
   "cell_type": "code",
   "execution_count": 38,
   "id": "52b28fbd",
   "metadata": {},
   "outputs": [
    {
     "name": "stdout",
     "output_type": "stream",
     "text": [
      "Gender          Sport   Men  Women  Total  Women%\n",
      "27          Wrestling  55.0   16.0   71.0   22.54\n",
      "7       Canoe / Kayak  53.0   21.0   74.0   28.38\n",
      "8             Cycling  43.0   21.0   64.0   32.81\n",
      "18            Sailing  33.0   21.0   54.0   38.89\n",
      "19           Shooting  26.0   17.0   43.0   39.53\n"
     ]
    }
   ],
   "source": [
    "male_majority_2008 = athlete_count_sport_wide_2008.sort_values('Women%', ascending=True)\n",
    "print(male_majority_2008.head())"
   ]
  },
  {
   "cell_type": "markdown",
   "id": "398cb71b",
   "metadata": {},
   "source": [
    "The tables above show that while the male-dominated sports became more even — in Wrestling the percentage of women grew from 4.81% to 22.54% — women-dominated sports stayed around 50%. "
   ]
  },
  {
   "cell_type": "markdown",
   "id": "59904315",
   "metadata": {},
   "source": [
    "**Q4:  Which countries won the most medals overall, and do host countries tend to win significantly more?**"
   ]
  },
  {
   "cell_type": "markdown",
   "id": "9be9afa4",
   "metadata": {},
   "source": [
    "The first part of this question was already answered in the Univariate Analysis: Country subsection. The same plot is displayed below."
   ]
  },
  {
   "cell_type": "code",
   "execution_count": 48,
   "id": "91fb419f",
   "metadata": {},
   "outputs": [
    {
     "data": {
      "image/png": "[encoded data removed]",
      "text/plain": [
       "<Figure size 1600x600 with 1 Axes>"
      ]
     },
     "metadata": {},
     "output_type": "display_data"
    }
   ],
   "source": [
    "plt.figure(figsize=(16,6))\n",
    "sns.barplot(x=country_counts.index, y=country_counts.values, color='#50223C')\n",
    "plt.title('Top 10 countries by total medals (1976 - 2008)')\n",
    "plt.xlabel('Country')\n",
    "plt.ylabel('Number of medals')\n",
    "plt.show()"
   ]
  },
  {
   "cell_type": "markdown",
   "id": "ba0569fa",
   "metadata": {},
   "source": [
    "To examine the second part of the quesiton, a *HostCountry* column was added to the original dataset. This allows for assessing weather host countries win more medals in the year they hosted the Games."
   ]
  },
  {
   "cell_type": "code",
   "execution_count": 44,
   "id": "e0ad5d52",
   "metadata": {},
   "outputs": [],
   "source": [
    "host_map = {\n",
    "    1976: 'Canada',\n",
    "    1980: 'Soviet Union',\n",
    "    1984: 'United States',\n",
    "    1988: 'South Korea',\n",
    "    1992: 'Spain',\n",
    "    1996: 'United States',\n",
    "    2000: 'Australia',\n",
    "    2004: 'Greece',\n",
    "    2008: 'China'\n",
    "}\n",
    "\n",
    "olympics_data['HostCountry'] = olympics_data['Year'].map(host_map)"
   ]
  },
  {
   "cell_type": "markdown",
   "id": "c98ddf14",
   "metadata": {},
   "source": [
    "After including the additional column a number of amendments were executed to fairly examine the 'host effect'. As the number of medals in total also increased throughout the year, the number only would be misleading. To avoid this, the share of medals won by the host countries in each year was calculated. This relative variable allows for cleaner comparison. In the final dataset (host_country_data) only the 8 hosting countries were retained to have a cleaner plot."
   ]
  },
  {
   "cell_type": "code",
   "execution_count": 54,
   "id": "726e7dcd",
   "metadata": {},
   "outputs": [
    {
     "data": {
      "application/vnd.microsoft.datawrangler.viewer.v0+json": {
       "columns": [
        {
         "name": "index",
         "rawType": "int64",
         "type": "integer"
        },
        {
         "name": "Country",
         "rawType": "object",
         "type": "string"
        },
        {
         "name": "Year",
         "rawType": "int64",
         "type": "integer"
        },
        {
         "name": "MedalCount",
         "rawType": "int64",
         "type": "integer"
        },
        {
         "name": "TotalMedals",
         "rawType": "int64",
         "type": "integer"
        },
        {
         "name": "Share",
         "rawType": "float64",
         "type": "float"
        },
        {
         "name": "HostCountry",
         "rawType": "object",
         "type": "string"
        }
       ],
       "ref": "a5b28aca-6f16-4214-874e-eae2d883d9a8",
       "rows": [
        [
         "15",
         "Australia",
         "1976",
         "24",
         "1305",
         "1.839080459770115",
         "Canada"
        ],
        [
         "16",
         "Australia",
         "1980",
         "12",
         "1386",
         "0.8658008658008658",
         "Soviet Union"
        ],
        [
         "17",
         "Australia",
         "1984",
         "50",
         "1459",
         "3.427004797806717",
         "United States"
        ],
        [
         "18",
         "Australia",
         "1988",
         "34",
         "1546",
         "2.1992238033635187",
         "South Korea"
        ],
        [
         "19",
         "Australia",
         "1992",
         "57",
         "1705",
         "3.343108504398827",
         "Spain"
        ],
        [
         "20",
         "Australia",
         "1996",
         "132",
         "1859",
         "7.100591715976331",
         "United States"
        ],
        [
         "21",
         "Australia",
         "2000",
         "183",
         "2015",
         "9.081885856079404",
         "Australia"
        ],
        [
         "22",
         "Australia",
         "2004",
         "157",
         "1998",
         "7.857857857857859",
         "Greece"
        ],
        [
         "23",
         "Australia",
         "2008",
         "149",
         "2042",
         "7.296767874632713",
         "China"
        ],
        [
         "79",
         "Canada",
         "1976",
         "20",
         "1305",
         "1.532567049808429",
         "Canada"
        ],
        [
         "80",
         "Canada",
         "1984",
         "86",
         "1459",
         "5.894448252227553",
         "United States"
        ],
        [
         "81",
         "Canada",
         "1988",
         "21",
         "1546",
         "1.3583441138421735",
         "South Korea"
        ],
        [
         "82",
         "Canada",
         "1992",
         "44",
         "1705",
         "2.5806451612903225",
         "Spain"
        ],
        [
         "83",
         "Canada",
         "1996",
         "51",
         "1859",
         "2.743410435718128",
         "United States"
        ],
        [
         "84",
         "Canada",
         "2000",
         "31",
         "2015",
         "1.5384615384615385",
         "Australia"
        ],
        [
         "85",
         "Canada",
         "2004",
         "17",
         "1998",
         "0.8508508508508509",
         "Greece"
        ],
        [
         "86",
         "Canada",
         "2008",
         "34",
         "2042",
         "1.665034280117532",
         "China"
        ],
        [
         "91",
         "China",
         "1984",
         "76",
         "1459",
         "5.20904729266621",
         "United States"
        ],
        [
         "92",
         "China",
         "1988",
         "53",
         "1546",
         "3.428201811125485",
         "South Korea"
        ],
        [
         "93",
         "China",
         "1992",
         "83",
         "1705",
         "4.868035190615836",
         "Spain"
        ],
        [
         "94",
         "China",
         "1996",
         "110",
         "1859",
         "5.9171597633136095",
         "United States"
        ],
        [
         "95",
         "China",
         "2000",
         "79",
         "2015",
         "3.9205955334987594",
         "Australia"
        ],
        [
         "96",
         "China",
         "2004",
         "94",
         "1998",
         "4.704704704704705",
         "Greece"
        ],
        [
         "97",
         "China",
         "2008",
         "184",
         "2042",
         "9.01077375122429",
         "China"
        ],
        [
         "188",
         "Greece",
         "1980",
         "5",
         "1386",
         "0.36075036075036077",
         "Soviet Union"
        ],
        [
         "189",
         "Greece",
         "1984",
         "2",
         "1459",
         "0.1370801919122687",
         "United States"
        ],
        [
         "190",
         "Greece",
         "1988",
         "1",
         "1546",
         "0.0646830530401035",
         "South Korea"
        ],
        [
         "191",
         "Greece",
         "1992",
         "2",
         "1705",
         "0.11730205278592376",
         "Spain"
        ],
        [
         "192",
         "Greece",
         "1996",
         "8",
         "1859",
         "0.43033889187735336",
         "United States"
        ],
        [
         "193",
         "Greece",
         "2000",
         "18",
         "2015",
         "0.8933002481389578",
         "Australia"
        ],
        [
         "194",
         "Greece",
         "2004",
         "31",
         "1998",
         "1.5515515515515517",
         "Greece"
        ],
        [
         "195",
         "Greece",
         "2008",
         "7",
         "2042",
         "0.3428011753183154",
         "China"
        ],
        [
         "438",
         "Soviet Union",
         "1976",
         "285",
         "1305",
         "21.839080459770116",
         "Canada"
        ],
        [
         "439",
         "Soviet Union",
         "1980",
         "442",
         "1386",
         "31.89033189033189",
         "Soviet Union"
        ],
        [
         "440",
         "Soviet Union",
         "1988",
         "294",
         "1546",
         "19.016817593790428",
         "South Korea"
        ],
        [
         "441",
         "Spain",
         "1976",
         "6",
         "1305",
         "0.45977011494252873",
         "Canada"
        ],
        [
         "442",
         "Spain",
         "1980",
         "24",
         "1386",
         "1.7316017316017316",
         "Soviet Union"
        ],
        [
         "443",
         "Spain",
         "1984",
         "19",
         "1459",
         "1.3022618231665526",
         "United States"
        ],
        [
         "444",
         "Spain",
         "1988",
         "5",
         "1546",
         "0.3234152652005175",
         "South Korea"
        ],
        [
         "445",
         "Spain",
         "1992",
         "66",
         "1705",
         "3.870967741935484",
         "Spain"
        ],
        [
         "446",
         "Spain",
         "1996",
         "67",
         "1859",
         "3.604088219472835",
         "United States"
        ],
        [
         "447",
         "Spain",
         "2000",
         "43",
         "2015",
         "2.133995037220844",
         "Australia"
        ],
        [
         "448",
         "Spain",
         "2004",
         "27",
         "1998",
         "1.3513513513513513",
         "Greece"
        ],
        [
         "449",
         "Spain",
         "2008",
         "71",
         "2042",
         "3.4769833496571985",
         "China"
        ],
        [
         "524",
         "United States",
         "1976",
         "155",
         "1305",
         "11.877394636015326",
         "Canada"
        ],
        [
         "525",
         "United States",
         "1984",
         "333",
         "1459",
         "22.823851953392733",
         "United States"
        ],
        [
         "526",
         "United States",
         "1988",
         "193",
         "1546",
         "12.483829236739973",
         "South Korea"
        ],
        [
         "527",
         "United States",
         "1992",
         "224",
         "1705",
         "13.137829912023461",
         "Spain"
        ],
        [
         "528",
         "United States",
         "1996",
         "260",
         "1859",
         "13.986013986013987",
         "United States"
        ],
        [
         "529",
         "United States",
         "2000",
         "248",
         "2015",
         "12.307692307692308",
         "Australia"
        ]
       ],
       "shape": {
        "columns": 6,
        "rows": 52
       }
      },
      "text/html": [
       "<div>\n",
       "<style scoped>\n",
       "    .dataframe tbody tr th:only-of-type {\n",
       "        vertical-align: middle;\n",
       "    }\n",
       "\n",
       "    .dataframe tbody tr th {\n",
       "        vertical-align: top;\n",
       "    }\n",
       "\n",
       "    .dataframe thead th {\n",
       "        text-align: right;\n",
       "    }\n",
       "</style>\n",
       "<table border=\"1\" class=\"dataframe\">\n",
       "  <thead>\n",
       "    <tr style=\"text-align: right;\">\n",
       "      <th></th>\n",
       "      <th>Country</th>\n",
       "      <th>Year</th>\n",
       "      <th>MedalCount</th>\n",
       "      <th>TotalMedals</th>\n",
       "      <th>Share</th>\n",
       "      <th>HostCountry</th>\n",
       "    </tr>\n",
       "  </thead>\n",
       "  <tbody>\n",
       "    <tr>\n",
       "      <th>15</th>\n",
       "      <td>Australia</td>\n",
       "      <td>1976</td>\n",
       "      <td>24</td>\n",
       "      <td>1305</td>\n",
       "      <td>1.839080</td>\n",
       "      <td>Canada</td>\n",
       "    </tr>\n",
       "    <tr>\n",
       "      <th>16</th>\n",
       "      <td>Australia</td>\n",
       "      <td>1980</td>\n",
       "      <td>12</td>\n",
       "      <td>1386</td>\n",
       "      <td>0.865801</td>\n",
       "      <td>Soviet Union</td>\n",
       "    </tr>\n",
       "    <tr>\n",
       "      <th>17</th>\n",
       "      <td>Australia</td>\n",
       "      <td>1984</td>\n",
       "      <td>50</td>\n",
       "      <td>1459</td>\n",
       "      <td>3.427005</td>\n",
       "      <td>United States</td>\n",
       "    </tr>\n",
       "    <tr>\n",
       "      <th>18</th>\n",
       "      <td>Australia</td>\n",
       "      <td>1988</td>\n",
       "      <td>34</td>\n",
       "      <td>1546</td>\n",
       "      <td>2.199224</td>\n",
       "      <td>South Korea</td>\n",
       "    </tr>\n",
       "    <tr>\n",
       "      <th>19</th>\n",
       "      <td>Australia</td>\n",
       "      <td>1992</td>\n",
       "      <td>57</td>\n",
       "      <td>1705</td>\n",
       "      <td>3.343109</td>\n",
       "      <td>Spain</td>\n",
       "    </tr>\n",
       "    <tr>\n",
       "      <th>20</th>\n",
       "      <td>Australia</td>\n",
       "      <td>1996</td>\n",
       "      <td>132</td>\n",
       "      <td>1859</td>\n",
       "      <td>7.100592</td>\n",
       "      <td>United States</td>\n",
       "    </tr>\n",
       "    <tr>\n",
       "      <th>21</th>\n",
       "      <td>Australia</td>\n",
       "      <td>2000</td>\n",
       "      <td>183</td>\n",
       "      <td>2015</td>\n",
       "      <td>9.081886</td>\n",
       "      <td>Australia</td>\n",
       "    </tr>\n",
       "    <tr>\n",
       "      <th>22</th>\n",
       "      <td>Australia</td>\n",
       "      <td>2004</td>\n",
       "      <td>157</td>\n",
       "      <td>1998</td>\n",
       "      <td>7.857858</td>\n",
       "      <td>Greece</td>\n",
       "    </tr>\n",
       "    <tr>\n",
       "      <th>23</th>\n",
       "      <td>Australia</td>\n",
       "      <td>2008</td>\n",
       "      <td>149</td>\n",
       "      <td>2042</td>\n",
       "      <td>7.296768</td>\n",
       "      <td>China</td>\n",
       "    </tr>\n",
       "    <tr>\n",
       "      <th>79</th>\n",
       "      <td>Canada</td>\n",
       "      <td>1976</td>\n",
       "      <td>20</td>\n",
       "      <td>1305</td>\n",
       "      <td>1.532567</td>\n",
       "      <td>Canada</td>\n",
       "    </tr>\n",
       "    <tr>\n",
       "      <th>80</th>\n",
       "      <td>Canada</td>\n",
       "      <td>1984</td>\n",
       "      <td>86</td>\n",
       "      <td>1459</td>\n",
       "      <td>5.894448</td>\n",
       "      <td>United States</td>\n",
       "    </tr>\n",
       "    <tr>\n",
       "      <th>81</th>\n",
       "      <td>Canada</td>\n",
       "      <td>1988</td>\n",
       "      <td>21</td>\n",
       "      <td>1546</td>\n",
       "      <td>1.358344</td>\n",
       "      <td>South Korea</td>\n",
       "    </tr>\n",
       "    <tr>\n",
       "      <th>82</th>\n",
       "      <td>Canada</td>\n",
       "      <td>1992</td>\n",
       "      <td>44</td>\n",
       "      <td>1705</td>\n",
       "      <td>2.580645</td>\n",
       "      <td>Spain</td>\n",
       "    </tr>\n",
       "    <tr>\n",
       "      <th>83</th>\n",
       "      <td>Canada</td>\n",
       "      <td>1996</td>\n",
       "      <td>51</td>\n",
       "      <td>1859</td>\n",
       "      <td>2.743410</td>\n",
       "      <td>United States</td>\n",
       "    </tr>\n",
       "    <tr>\n",
       "      <th>84</th>\n",
       "      <td>Canada</td>\n",
       "      <td>2000</td>\n",
       "      <td>31</td>\n",
       "      <td>2015</td>\n",
       "      <td>1.538462</td>\n",
       "      <td>Australia</td>\n",
       "    </tr>\n",
       "    <tr>\n",
       "      <th>85</th>\n",
       "      <td>Canada</td>\n",
       "      <td>2004</td>\n",
       "      <td>17</td>\n",
       "      <td>1998</td>\n",
       "      <td>0.850851</td>\n",
       "      <td>Greece</td>\n",
       "    </tr>\n",
       "    <tr>\n",
       "      <th>86</th>\n",
       "      <td>Canada</td>\n",
       "      <td>2008</td>\n",
       "      <td>34</td>\n",
       "      <td>2042</td>\n",
       "      <td>1.665034</td>\n",
       "      <td>China</td>\n",
       "    </tr>\n",
       "    <tr>\n",
       "      <th>91</th>\n",
       "      <td>China</td>\n",
       "      <td>1984</td>\n",
       "      <td>76</td>\n",
       "      <td>1459</td>\n",
       "      <td>5.209047</td>\n",
       "      <td>United States</td>\n",
       "    </tr>\n",
       "    <tr>\n",
       "      <th>92</th>\n",
       "      <td>China</td>\n",
       "      <td>1988</td>\n",
       "      <td>53</td>\n",
       "      <td>1546</td>\n",
       "      <td>3.428202</td>\n",
       "      <td>South Korea</td>\n",
       "    </tr>\n",
       "    <tr>\n",
       "      <th>93</th>\n",
       "      <td>China</td>\n",
       "      <td>1992</td>\n",
       "      <td>83</td>\n",
       "      <td>1705</td>\n",
       "      <td>4.868035</td>\n",
       "      <td>Spain</td>\n",
       "    </tr>\n",
       "    <tr>\n",
       "      <th>94</th>\n",
       "      <td>China</td>\n",
       "      <td>1996</td>\n",
       "      <td>110</td>\n",
       "      <td>1859</td>\n",
       "      <td>5.917160</td>\n",
       "      <td>United States</td>\n",
       "    </tr>\n",
       "    <tr>\n",
       "      <th>95</th>\n",
       "      <td>China</td>\n",
       "      <td>2000</td>\n",
       "      <td>79</td>\n",
       "      <td>2015</td>\n",
       "      <td>3.920596</td>\n",
       "      <td>Australia</td>\n",
       "    </tr>\n",
       "    <tr>\n",
       "      <th>96</th>\n",
       "      <td>China</td>\n",
       "      <td>2004</td>\n",
       "      <td>94</td>\n",
       "      <td>1998</td>\n",
       "      <td>4.704705</td>\n",
       "      <td>Greece</td>\n",
       "    </tr>\n",
       "    <tr>\n",
       "      <th>97</th>\n",
       "      <td>China</td>\n",
       "      <td>2008</td>\n",
       "      <td>184</td>\n",
       "      <td>2042</td>\n",
       "      <td>9.010774</td>\n",
       "      <td>China</td>\n",
       "    </tr>\n",
       "    <tr>\n",
       "      <th>188</th>\n",
       "      <td>Greece</td>\n",
       "      <td>1980</td>\n",
       "      <td>5</td>\n",
       "      <td>1386</td>\n",
       "      <td>0.360750</td>\n",
       "      <td>Soviet Union</td>\n",
       "    </tr>\n",
       "    <tr>\n",
       "      <th>189</th>\n",
       "      <td>Greece</td>\n",
       "      <td>1984</td>\n",
       "      <td>2</td>\n",
       "      <td>1459</td>\n",
       "      <td>0.137080</td>\n",
       "      <td>United States</td>\n",
       "    </tr>\n",
       "    <tr>\n",
       "      <th>190</th>\n",
       "      <td>Greece</td>\n",
       "      <td>1988</td>\n",
       "      <td>1</td>\n",
       "      <td>1546</td>\n",
       "      <td>0.064683</td>\n",
       "      <td>South Korea</td>\n",
       "    </tr>\n",
       "    <tr>\n",
       "      <th>191</th>\n",
       "      <td>Greece</td>\n",
       "      <td>1992</td>\n",
       "      <td>2</td>\n",
       "      <td>1705</td>\n",
       "      <td>0.117302</td>\n",
       "      <td>Spain</td>\n",
       "    </tr>\n",
       "    <tr>\n",
       "      <th>192</th>\n",
       "      <td>Greece</td>\n",
       "      <td>1996</td>\n",
       "      <td>8</td>\n",
       "      <td>1859</td>\n",
       "      <td>0.430339</td>\n",
       "      <td>United States</td>\n",
       "    </tr>\n",
       "    <tr>\n",
       "      <th>193</th>\n",
       "      <td>Greece</td>\n",
       "      <td>2000</td>\n",
       "      <td>18</td>\n",
       "      <td>2015</td>\n",
       "      <td>0.893300</td>\n",
       "      <td>Australia</td>\n",
       "    </tr>\n",
       "    <tr>\n",
       "      <th>194</th>\n",
       "      <td>Greece</td>\n",
       "      <td>2004</td>\n",
       "      <td>31</td>\n",
       "      <td>1998</td>\n",
       "      <td>1.551552</td>\n",
       "      <td>Greece</td>\n",
       "    </tr>\n",
       "    <tr>\n",
       "      <th>195</th>\n",
       "      <td>Greece</td>\n",
       "      <td>2008</td>\n",
       "      <td>7</td>\n",
       "      <td>2042</td>\n",
       "      <td>0.342801</td>\n",
       "      <td>China</td>\n",
       "    </tr>\n",
       "    <tr>\n",
       "      <th>438</th>\n",
       "      <td>Soviet Union</td>\n",
       "      <td>1976</td>\n",
       "      <td>285</td>\n",
       "      <td>1305</td>\n",
       "      <td>21.839080</td>\n",
       "      <td>Canada</td>\n",
       "    </tr>\n",
       "    <tr>\n",
       "      <th>439</th>\n",
       "      <td>Soviet Union</td>\n",
       "      <td>1980</td>\n",
       "      <td>442</td>\n",
       "      <td>1386</td>\n",
       "      <td>31.890332</td>\n",
       "      <td>Soviet Union</td>\n",
       "    </tr>\n",
       "    <tr>\n",
       "      <th>440</th>\n",
       "      <td>Soviet Union</td>\n",
       "      <td>1988</td>\n",
       "      <td>294</td>\n",
       "      <td>1546</td>\n",
       "      <td>19.016818</td>\n",
       "      <td>South Korea</td>\n",
       "    </tr>\n",
       "    <tr>\n",
       "      <th>441</th>\n",
       "      <td>Spain</td>\n",
       "      <td>1976</td>\n",
       "      <td>6</td>\n",
       "      <td>1305</td>\n",
       "      <td>0.459770</td>\n",
       "      <td>Canada</td>\n",
       "    </tr>\n",
       "    <tr>\n",
       "      <th>442</th>\n",
       "      <td>Spain</td>\n",
       "      <td>1980</td>\n",
       "      <td>24</td>\n",
       "      <td>1386</td>\n",
       "      <td>1.731602</td>\n",
       "      <td>Soviet Union</td>\n",
       "    </tr>\n",
       "    <tr>\n",
       "      <th>443</th>\n",
       "      <td>Spain</td>\n",
       "      <td>1984</td>\n",
       "      <td>19</td>\n",
       "      <td>1459</td>\n",
       "      <td>1.302262</td>\n",
       "      <td>United States</td>\n",
       "    </tr>\n",
       "    <tr>\n",
       "      <th>444</th>\n",
       "      <td>Spain</td>\n",
       "      <td>1988</td>\n",
       "      <td>5</td>\n",
       "      <td>1546</td>\n",
       "      <td>0.323415</td>\n",
       "      <td>South Korea</td>\n",
       "    </tr>\n",
       "    <tr>\n",
       "      <th>445</th>\n",
       "      <td>Spain</td>\n",
       "      <td>1992</td>\n",
       "      <td>66</td>\n",
       "      <td>1705</td>\n",
       "      <td>3.870968</td>\n",
       "      <td>Spain</td>\n",
       "    </tr>\n",
       "    <tr>\n",
       "      <th>446</th>\n",
       "      <td>Spain</td>\n",
       "      <td>1996</td>\n",
       "      <td>67</td>\n",
       "      <td>1859</td>\n",
       "      <td>3.604088</td>\n",
       "      <td>United States</td>\n",
       "    </tr>\n",
       "    <tr>\n",
       "      <th>447</th>\n",
       "      <td>Spain</td>\n",
       "      <td>2000</td>\n",
       "      <td>43</td>\n",
       "      <td>2015</td>\n",
       "      <td>2.133995</td>\n",
       "      <td>Australia</td>\n",
       "    </tr>\n",
       "    <tr>\n",
       "      <th>448</th>\n",
       "      <td>Spain</td>\n",
       "      <td>2004</td>\n",
       "      <td>27</td>\n",
       "      <td>1998</td>\n",
       "      <td>1.351351</td>\n",
       "      <td>Greece</td>\n",
       "    </tr>\n",
       "    <tr>\n",
       "      <th>449</th>\n",
       "      <td>Spain</td>\n",
       "      <td>2008</td>\n",
       "      <td>71</td>\n",
       "      <td>2042</td>\n",
       "      <td>3.476983</td>\n",
       "      <td>China</td>\n",
       "    </tr>\n",
       "    <tr>\n",
       "      <th>524</th>\n",
       "      <td>United States</td>\n",
       "      <td>1976</td>\n",
       "      <td>155</td>\n",
       "      <td>1305</td>\n",
       "      <td>11.877395</td>\n",
       "      <td>Canada</td>\n",
       "    </tr>\n",
       "    <tr>\n",
       "      <th>525</th>\n",
       "      <td>United States</td>\n",
       "      <td>1984</td>\n",
       "      <td>333</td>\n",
       "      <td>1459</td>\n",
       "      <td>22.823852</td>\n",
       "      <td>United States</td>\n",
       "    </tr>\n",
       "    <tr>\n",
       "      <th>526</th>\n",
       "      <td>United States</td>\n",
       "      <td>1988</td>\n",
       "      <td>193</td>\n",
       "      <td>1546</td>\n",
       "      <td>12.483829</td>\n",
       "      <td>South Korea</td>\n",
       "    </tr>\n",
       "    <tr>\n",
       "      <th>527</th>\n",
       "      <td>United States</td>\n",
       "      <td>1992</td>\n",
       "      <td>224</td>\n",
       "      <td>1705</td>\n",
       "      <td>13.137830</td>\n",
       "      <td>Spain</td>\n",
       "    </tr>\n",
       "    <tr>\n",
       "      <th>528</th>\n",
       "      <td>United States</td>\n",
       "      <td>1996</td>\n",
       "      <td>260</td>\n",
       "      <td>1859</td>\n",
       "      <td>13.986014</td>\n",
       "      <td>United States</td>\n",
       "    </tr>\n",
       "    <tr>\n",
       "      <th>529</th>\n",
       "      <td>United States</td>\n",
       "      <td>2000</td>\n",
       "      <td>248</td>\n",
       "      <td>2015</td>\n",
       "      <td>12.307692</td>\n",
       "      <td>Australia</td>\n",
       "    </tr>\n",
       "    <tr>\n",
       "      <th>530</th>\n",
       "      <td>United States</td>\n",
       "      <td>2004</td>\n",
       "      <td>264</td>\n",
       "      <td>1998</td>\n",
       "      <td>13.213213</td>\n",
       "      <td>Greece</td>\n",
       "    </tr>\n",
       "    <tr>\n",
       "      <th>531</th>\n",
       "      <td>United States</td>\n",
       "      <td>2008</td>\n",
       "      <td>315</td>\n",
       "      <td>2042</td>\n",
       "      <td>15.426053</td>\n",
       "      <td>China</td>\n",
       "    </tr>\n",
       "  </tbody>\n",
       "</table>\n",
       "</div>"
      ],
      "text/plain": [
       "           Country  Year  MedalCount  TotalMedals      Share    HostCountry\n",
       "15       Australia  1976          24         1305   1.839080         Canada\n",
       "16       Australia  1980          12         1386   0.865801   Soviet Union\n",
       "17       Australia  1984          50         1459   3.427005  United States\n",
       "18       Australia  1988          34         1546   2.199224    South Korea\n",
       "19       Australia  1992          57         1705   3.343109          Spain\n",
       "20       Australia  1996         132         1859   7.100592  United States\n",
       "21       Australia  2000         183         2015   9.081886      Australia\n",
       "22       Australia  2004         157         1998   7.857858         Greece\n",
       "23       Australia  2008         149         2042   7.296768          China\n",
       "79          Canada  1976          20         1305   1.532567         Canada\n",
       "80          Canada  1984          86         1459   5.894448  United States\n",
       "81          Canada  1988          21         1546   1.358344    South Korea\n",
       "82          Canada  1992          44         1705   2.580645          Spain\n",
       "83          Canada  1996          51         1859   2.743410  United States\n",
       "84          Canada  2000          31         2015   1.538462      Australia\n",
       "85          Canada  2004          17         1998   0.850851         Greece\n",
       "86          Canada  2008          34         2042   1.665034          China\n",
       "91           China  1984          76         1459   5.209047  United States\n",
       "92           China  1988          53         1546   3.428202    South Korea\n",
       "93           China  1992          83         1705   4.868035          Spain\n",
       "94           China  1996         110         1859   5.917160  United States\n",
       "95           China  2000          79         2015   3.920596      Australia\n",
       "96           China  2004          94         1998   4.704705         Greece\n",
       "97           China  2008         184         2042   9.010774          China\n",
       "188         Greece  1980           5         1386   0.360750   Soviet Union\n",
       "189         Greece  1984           2         1459   0.137080  United States\n",
       "190         Greece  1988           1         1546   0.064683    South Korea\n",
       "191         Greece  1992           2         1705   0.117302          Spain\n",
       "192         Greece  1996           8         1859   0.430339  United States\n",
       "193         Greece  2000          18         2015   0.893300      Australia\n",
       "194         Greece  2004          31         1998   1.551552         Greece\n",
       "195         Greece  2008           7         2042   0.342801          China\n",
       "438   Soviet Union  1976         285         1305  21.839080         Canada\n",
       "439   Soviet Union  1980         442         1386  31.890332   Soviet Union\n",
       "440   Soviet Union  1988         294         1546  19.016818    South Korea\n",
       "441          Spain  1976           6         1305   0.459770         Canada\n",
       "442          Spain  1980          24         1386   1.731602   Soviet Union\n",
       "443          Spain  1984          19         1459   1.302262  United States\n",
       "444          Spain  1988           5         1546   0.323415    South Korea\n",
       "445          Spain  1992          66         1705   3.870968          Spain\n",
       "446          Spain  1996          67         1859   3.604088  United States\n",
       "447          Spain  2000          43         2015   2.133995      Australia\n",
       "448          Spain  2004          27         1998   1.351351         Greece\n",
       "449          Spain  2008          71         2042   3.476983          China\n",
       "524  United States  1976         155         1305  11.877395         Canada\n",
       "525  United States  1984         333         1459  22.823852  United States\n",
       "526  United States  1988         193         1546  12.483829    South Korea\n",
       "527  United States  1992         224         1705  13.137830          Spain\n",
       "528  United States  1996         260         1859  13.986014  United States\n",
       "529  United States  2000         248         2015  12.307692      Australia\n",
       "530  United States  2004         264         1998  13.213213         Greece\n",
       "531  United States  2008         315         2042  15.426053          China"
      ]
     },
     "execution_count": 54,
     "metadata": {},
     "output_type": "execute_result"
    }
   ],
   "source": [
    "# Total medals per year\n",
    "total_medals_per_year = olympics_data.groupby('Year').size().reset_index(name='TotalMedals').copy()\n",
    "\n",
    "# Merge back\n",
    "medals_share = (olympics_data.groupby(['Country', 'Year']).size().reset_index(name='MedalCount').merge(total_medals_per_year, on='Year')).copy()\n",
    "medals_share['Share'] = medals_share['MedalCount'] / medals_share['TotalMedals'] * 100\n",
    "\n",
    "# Include host country data\n",
    "medals_share = medals_share.merge(olympics_data[['Year', 'HostCountry']].drop_duplicates(), on='Year')\n",
    "\n",
    "# Keep only countries that hosted at least once\n",
    "host_countries = medals_share['HostCountry'].unique()\n",
    "host_country_data = medals_share.loc[medals_share['Country'].isin(host_countries)]\n",
    "host_country_data"
   ]
  },
  {
   "cell_type": "code",
   "execution_count": 58,
   "id": "48cb27b1",
   "metadata": {},
   "outputs": [
    {
     "data": {
      "image/png": "[encoded data removed]",
      "text/plain": [
       "<Figure size 1600x600 with 1 Axes>"
      ]
     },
     "metadata": {},
     "output_type": "display_data"
    }
   ],
   "source": [
    "plt.figure(figsize=(16,6))\n",
    "sns.lineplot(data=host_country_data, x='Year', y='Share', hue='Country',\n",
    "             palette={'Australia': '#56504d',\n",
    "                      'Canada': '#9a7aa0',\n",
    "                      'China': '#60712f',\n",
    "                      'Greece': '#4e8b98',\n",
    "                      'Soviet Union': '#282828',\n",
    "                      'Spain': '#603d51',\n",
    "                      'United States': '#e6801a'},\n",
    "             marker='o', linewidth=3)\n",
    "plt.title('Share of medals for each host country for the Summer Olympics (1976 - 2008)')\n",
    "plt.xlabel('Year')\n",
    "plt.ylabel('Share of medals')\n",
    "plt.show()"
   ]
  },
  {
   "cell_type": "markdown",
   "id": "6ef7db89",
   "metadata": {},
   "source": [
    "The graph shows the share of medals for each host countries throughióout the years. It is important to highlight that the Soviet Union ceased to exist in 1991, thus not having records for Olympics after this. It is also important to note that Canada and the United States did not attend the 1980 Olympic Games held in Moscow, and the Soviet Union did not attend the 1984 Olympic Games held in Los Angeles. Furthermore, Greece and China do not have records for earlier Olympics, only from 1980 and 1984 respectively. These information are important for the analysis.\n",
    "\n",
    "Notably, Australia's share in total medals increases over time, peaking in the 2000 Sydney Games. Canada, interestingly, experienced an increase in medals in the 1984 Games held in the United States, and not in the year of Canada being the host country. China's first Olympic Games recorded in this dataset was the 1984 Games. From this year, the country held around 5% share of the total medals in each year. however, in the 2008 Beijing Olympics its share jumped to around 9%. Greece's share of the medals remained pretty low trhoughout the year, however, a minor increase can be observed in 2004 in the Athens Games. The Soviet Union, despite having only three entries in this graph, experienced a clear jump in the Moscow Olympics winning around one third of the total medals in the Games. Spain also experienced an increase in its share of medals in the 1992 Barcelona Olympics, however, it could hold ots higher position for the next Olympic Games in Atlanta as well. Finally, The United States experienced a clear jump in its share of total medals in the Los Angeles Olympics in 1984, however, no siginicant change can be observed in the 1996 Atlanta Olympics."
   ]
  },
  {
   "cell_type": "markdown",
   "id": "34ad96e2",
   "metadata": {},
   "source": [
    "**Q5: Which sports show the widest distribution of medals across countries, and which are dominated by only a few?**"
   ]
  },
  {
   "cell_type": "code",
   "execution_count": 79,
   "id": "455b9631",
   "metadata": {},
   "outputs": [],
   "source": [
    "country_count_per_sport = olympics_data.groupby('Sport')['Country'].nunique().sort_values(ascending=False).copy()"
   ]
  },
  {
   "cell_type": "code",
   "execution_count": 91,
   "id": "cd82963b",
   "metadata": {},
   "outputs": [
    {
     "data": {
      "image/png": "[encoded data removed]",
      "text/plain": [
       "<Figure size 1600x600 with 1 Axes>"
      ]
     },
     "metadata": {},
     "output_type": "display_data"
    }
   ],
   "source": [
    "plt.figure(figsize=(16,6))\n",
    "sns.barplot(x=country_count_per_sport.index, y=country_count_per_sport.values, color='#5c0029')\n",
    "plt.title('Number of medalist countries in each sport (1976 - 2008)')\n",
    "plt.xlabel('Sport')\n",
    "plt.ylabel('Number of counrties')\n",
    "plt.xticks(rotation=45, ha=\"right\")\n",
    "plt.show()"
   ]
  },
  {
   "cell_type": "markdown",
   "id": "4b29d2d7",
   "metadata": {},
   "source": [
    "The graph shows the number of medalist coiuntries in each sport during the whole timeseries. The sports with the most medalist countries are Athletics with almost 80 different medal-winning countries, Boxing with around 65 medal-winning countries, and Shooting with over 50 different countries winning a medal in the sport. These are the most distributed sports in the Summer Olympic Games. The sports that are the most concentrated are Softball, Baseball, and Badminton, meaning that they have only a few countries (less that 10 each) winning medals in these sports. "
   ]
  }
 ],
 "metadata": {
  "kernelspec": {
   "display_name": ".venv (3.12.7)",
   "language": "python",
   "name": "python3"
  },
  "language_info": {
   "codemirror_mode": {
    "name": "ipython",
    "version": 3
   },
   "file_extension": ".py",
   "mimetype": "text/x-python",
   "name": "python",
   "nbconvert_exporter": "python",
   "pygments_lexer": "ipython3",
   "version": "3.12.7"
  }
 },
 "nbformat": 4,
 "nbformat_minor": 5
}
